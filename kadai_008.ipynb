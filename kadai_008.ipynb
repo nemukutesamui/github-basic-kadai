{
  "nbformat": 4,
  "nbformat_minor": 0,
  "metadata": {
    "colab": {
      "provenance": []
    },
    "kernelspec": {
      "name": "python3",
      "display_name": "Python 3"
    },
    "language_info": {
      "name": "python"
    }
  },
  "cells": [
    {
      "cell_type": "code",
      "execution_count": 9,
      "metadata": {
        "colab": {
          "base_uri": "https://localhost:8080/"
        },
        "id": "-ki4bc47Mejg",
        "outputId": "c114d89e-0e4d-4941-8a3c-6388672163a4"
      },
      "outputs": [
        {
          "output_type": "stream",
          "name": "stdout",
          "text": [
            "91\n",
            "91\n"
          ]
        }
      ],
      "source": [
        "# ランダムな整数を利用するために、randomモジュールをインポート\n",
        "import random\n",
        "\n",
        "#整数varにランダムな正の整数を代入する\n",
        "var = random.randint(2, 118)\n",
        "\n",
        "#変数varの値を出力する\n",
        "print(var)\n",
        "\n",
        "#変数varが、3の倍数の時は「Fizz」を入力\n",
        "if var % 3 == 0:\n",
        "    print(\"Fizz\")\n",
        "\n",
        "#変数varが、5の倍数の時は「Buzz」を入力\n",
        "elif var % 5 == 0:\n",
        "    print(\"Buzz\")\n",
        "\n",
        "#変数varが、3の倍数かつ5の倍数の時は「FizzBuzz」を入力\n",
        "elif var % 3 == 0 and var % 5 == 0:\n",
        "    print(\"FizzBuzz\")\n",
        "\n",
        "#上記のどの値にも該当しない場合は、変数varの値を出力\n",
        "print(var)\n",
        "\n"
      ]
    }
  ]
}