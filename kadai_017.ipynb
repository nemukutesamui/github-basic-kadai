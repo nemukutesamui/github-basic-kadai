{
  "nbformat": 4,
  "nbformat_minor": 0,
  "metadata": {
    "colab": {
      "provenance": []
    },
    "kernelspec": {
      "name": "python3",
      "display_name": "Python 3"
    },
    "language_info": {
      "name": "python"
    }
  },
  "cells": [
    {
      "cell_type": "code",
      "execution_count": 1,
      "metadata": {
        "id": "jhiP-B1j4AHx",
        "colab": {
          "base_uri": "https://localhost:8080/"
        },
        "outputId": "190a1eb6-8516-409f-da68-9fbbe8146484"
      },
      "outputs": [
        {
          "output_type": "stream",
          "name": "stdout",
          "text": [
            "Name: 侍太郎, Age: 25\n",
            "Name: 侍花子, Age: 18\n",
            "Name: 侍一郎, Age: 30\n"
          ]
        }
      ],
      "source": [
        "class Human:\n",
        "    def __init__(self, name, age):\n",
        "        self.name = name\n",
        "        self.age = age\n",
        "\n",
        "    def check_adult(self):\n",
        "        if self.age >= 20:\n",
        "            print(f\"{self.name} is an adult.\")\n",
        "        else:\n",
        "            print(f\"{self.name} is a minor.\")\n",
        "\n",
        "def create_human_list(data_list):\n",
        "    human_list = []\n",
        "    for item in data_list:\n",
        "        name, age = item.split(',')\n",
        "        human = Human(name, int(age))\n",
        "        human_list.append(human)\n",
        "    return human_list\n",
        "\n",
        "def print_human_list(human_list):\n",
        "    for human in human_list:\n",
        "        print(f\"Name: {human.name}, Age: {human.age}\")\n",
        "\n",
        "data_list = [\"侍太郎,25\", \"侍花子,18\", \"侍一郎,30\"]\n",
        "human_list = create_human_list(data_list)\n",
        "print_human_list(human_list)"
      ]
    }
  ]
}