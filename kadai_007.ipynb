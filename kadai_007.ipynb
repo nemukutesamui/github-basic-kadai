{
  "nbformat": 4,
  "nbformat_minor": 0,
  "metadata": {
    "colab": {
      "provenance": []
    },
    "kernelspec": {
      "name": "python3",
      "display_name": "Python 3"
    },
    "language_info": {
      "name": "python"
    }
  },
  "cells": [
    {
      "cell_type": "code",
      "source": [
        "array = {0:\"月曜日は晴れです\",1:\"火曜日は雨です\",2:\"水曜日は晴れです\",3:\"木曜日は晴れです\",4:\"金曜日は曇りです\",5:\"土曜日は曇りのち雨です\",6:\"日曜日は雷雨です\"}\n",
        "print(array[2])\n",
        "\n",
        "dictionary = {\"mon\":\"晴れ\" ,\"the\":\"雨\", \"wed\":\"晴れ\",\"thu\":\"晴れ\", \"fri\":\"曇り\",\"sat\":\"曇りのち雨\",\"sun\":\"雷雨\"}\n",
        "print(dictionary[\"wed\"])\n"
      ],
      "metadata": {
        "colab": {
          "base_uri": "https://localhost:8080/"
        },
        "id": "9L_l3WkDkGLu",
        "outputId": "ad9442d1-d682-420f-ed6a-2d18ad6ea3b4"
      },
      "execution_count": 17,
      "outputs": [
        {
          "output_type": "stream",
          "name": "stdout",
          "text": [
            "水曜日は晴れです\n",
            "晴れ\n"
          ]
        }
      ]
    },
    {
      "cell_type": "code",
      "source": [],
      "metadata": {
        "id": "wCGT77zgs7g2"
      },
      "execution_count": null,
      "outputs": []
    }
  ]
}