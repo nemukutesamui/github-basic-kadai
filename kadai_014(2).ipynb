{
  "nbformat": 4,
  "nbformat_minor": 0,
  "metadata": {
    "colab": {
      "provenance": []
    },
    "kernelspec": {
      "name": "python3",
      "display_name": "Python 3"
    },
    "language_info": {
      "name": "python"
    }
  },
  "cells": [
    {
      "cell_type": "code",
      "source": [
        "price1 = 100\n",
        "price2 = 200\n",
        "\n",
        "def total (price1,price2,tax=1.1):\n",
        "     total_price = price1 + price2\n",
        "     total_price_with_tax =total_price * tax\n",
        "     return total_price_with_tax\n",
        "\n",
        "total_price=total(price1,price2)\n",
        "print(total_price)\n"
      ],
      "metadata": {
        "colab": {
          "base_uri": "https://localhost:8080/"
        },
        "id": "6LXcrKFAlRNG",
        "outputId": "4dfa3c21-a97d-4ee3-8032-c32dea330114"
      },
      "execution_count": 10,
      "outputs": [
        {
          "output_type": "stream",
          "name": "stdout",
          "text": [
            "330.0\n"
          ]
        }
      ]
    },
    {
      "cell_type": "code",
      "source": [
        "price1 = 100\n",
        "price2 = 200\n",
        "\n",
        "def total(price1, price2, tax=1.1):\n",
        "    total_price = price1 + price2\n",
        "    total_price_with_tax = total_price * tax\n",
        "    return total_price_with_tax, total_price\n",
        "\n",
        "total_with_tax, total_price = total(price1, price2)\n",
        "print(total_with_tax)\n",
        "print(total_price)\n"
      ],
      "metadata": {
        "colab": {
          "base_uri": "https://localhost:8080/"
        },
        "id": "ak9dllyGqPz1",
        "outputId": "6751297b-6e07-48bf-ab96-b8900f76cd19"
      },
      "execution_count": 7,
      "outputs": [
        {
          "output_type": "stream",
          "name": "stdout",
          "text": [
            "330.0\n",
            "300\n"
          ]
        }
      ]
    }
  ]
}