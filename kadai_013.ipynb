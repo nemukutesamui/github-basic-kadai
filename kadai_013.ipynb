{
  "nbformat": 4,
  "nbformat_minor": 0,
  "metadata": {
    "colab": {
      "provenance": [],
      "history_visible": true
    },
    "kernelspec": {
      "name": "python3",
      "display_name": "Python 3"
    },
    "language_info": {
      "name": "python"
    }
  },
  "cells": [
    {
      "cell_type": "code",
      "source": [],
      "metadata": {
        "id": "5kITVUlJRWEO"
      },
      "execution_count": 7,
      "outputs": []
    },
    {
      "cell_type": "code",
      "source": [
        "from typing import TextIO\n",
        "#消費税を加えた関数を呼びだす\n",
        "def calculate_total_with_tax(price,tax_rate):\n",
        "    \"\"\"購入金額と消費税率を受け取り、消費税を加えた金額を返す\n",
        "\n",
        "    :param price: 購入金額\n",
        "    :param tax_rate: 消費税率\n",
        "    :return: 消費税を加えた金額\n",
        "    \"\"\"\n",
        "    total = price + (price * tax_rate)\n",
        "    return total\n",
        "\n",
        "#例として商品価格1000円、消費税10%で呼びだす\n",
        "calculate_total_with_tax(1000,0.1)\n",
        "total = calculate_total_with_tax(1000,0.1)\n",
        "print(f\"{total}円\")\n",
        "\n"
      ],
      "metadata": {
        "id": "cJdCER2MRru5"
      },
      "execution_count": null,
      "outputs": []
    }
  ]
}