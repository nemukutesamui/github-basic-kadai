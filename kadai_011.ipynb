{
  "nbformat": 4,
  "nbformat_minor": 0,
  "metadata": {
    "colab": {
      "provenance": []
    },
    "kernelspec": {
      "name": "python3",
      "display_name": "Python 3"
    },
    "language_info": {
      "name": "python"
    }
  },
  "cells": [
    {
      "cell_type": "code",
      "execution_count": 11,
      "metadata": {
        "colab": {
          "base_uri": "https://localhost:8080/"
        },
        "id": "iYVfPNJMiil8",
        "outputId": "19459478-09c9-4f75-aaf4-ab330e1d5fa9"
      },
      "outputs": [
        {
          "output_type": "stream",
          "name": "stdout",
          "text": [
            "水\n",
            "金\n",
            "地\n",
            "火\n",
            "木\n",
            "土\n",
            "天\n",
            "海\n",
            "冥\n",
            "水\n",
            "金\n",
            "地\n",
            "火\n",
            "木\n",
            "土\n",
            "天\n",
            "海\n",
            "冥\n"
          ]
        }
      ],
      "source": [
        "#惑星のリストを定義する\n",
        "planets = [\"水\", \"金\", \"地\", \"火\", \"木\", \"土\", \"天\", \"海\", \"冥\"]\n",
        "\n",
        "#for文で2回繰り返して出力する\n",
        "for i in range(2):\n",
        "    for planet in planets:\n",
        "        print(planet)"
      ]
    },
    {
      "cell_type": "code",
      "source": [
        "# 惑星のリストを定義\n",
        "planets = [\"水\", \"金\", \"地\", \"火\", \"木\", \"土\", \"天\", \"海\", \"冥\"]\n",
        "\n",
        "# 繰り返し回数のカウンタを初期化\n",
        "repeat_count = 0\n",
        "\n",
        "# while ループで2回繰り返して出力\n",
        "while repeat_count < 2:\n",
        "    for planet in planets:\n",
        "        print(planet)\n",
        "    repeat_count += 1  # 繰り返し回数をインクリメント\n"
      ],
      "metadata": {
        "colab": {
          "base_uri": "https://localhost:8080/"
        },
        "id": "zw7MKwdyoL1O",
        "outputId": "b168bbd5-2f5c-4c80-80e7-53a47f506cf5"
      },
      "execution_count": 12,
      "outputs": [
        {
          "output_type": "stream",
          "name": "stdout",
          "text": [
            "水\n",
            "金\n",
            "地\n",
            "火\n",
            "木\n",
            "土\n",
            "天\n",
            "海\n",
            "冥\n",
            "水\n",
            "金\n",
            "地\n",
            "火\n",
            "木\n",
            "土\n",
            "天\n",
            "海\n",
            "冥\n"
          ]
        }
      ]
    }
  ]
}