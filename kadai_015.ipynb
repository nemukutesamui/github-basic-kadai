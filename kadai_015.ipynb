{
  "nbformat": 4,
  "nbformat_minor": 0,
  "metadata": {
    "colab": {
      "provenance": []
    },
    "kernelspec": {
      "name": "python3",
      "display_name": "Python 3"
    },
    "language_info": {
      "name": "python"
    }
  },
  "cells": [
    {
      "cell_type": "code",
      "source": [
        "class Human:\n",
        "    def __init__(self,name,age):\n",
        "        self.name =name\n",
        "        self.age =age\n",
        "\n",
        "    #nameとageを標準出力するメソッドを定義する\n",
        "    def printinfo(self):\n",
        "      print(f\"name,{self.name},age,{self.age}\")\n",
        "\n",
        "\n",
        "# インスタンス化する\n",
        "human =Human(\"侍太郎\",36)\n",
        "\n",
        "# 属性にアクセスし、値を出力する\n",
        "print(human.name)\n",
        "print(human.age)\n",
        "\n",
        "\n",
        "#printinfoメソッドを呼び出して表示\n",
        "human.printinfo()\n"
      ],
      "metadata": {
        "colab": {
          "base_uri": "https://localhost:8080/"
        },
        "id": "DQIejXkgOtbL",
        "outputId": "34426174-e08f-4588-f2fe-2f62a118fc8f"
      },
      "execution_count": 9,
      "outputs": [
        {
          "output_type": "stream",
          "name": "stdout",
          "text": [
            "侍太郎\n",
            "36\n",
            "name,侍太郎,age,36\n"
          ]
        }
      ]
    }
  ]
}